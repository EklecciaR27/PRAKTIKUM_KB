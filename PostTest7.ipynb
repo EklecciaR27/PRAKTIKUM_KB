{
 "cells": [
  {
   "cell_type": "markdown",
   "id": "a5248003-51e3-48f8-a17e-790855d4e9dd",
   "metadata": {},
   "source": [
    "# POST TEST 7 Kecerdasan Buatan - TensorFlow\n",
    "## 2109106036 - Ekleccia Reydianto"
   ]
  },
  {
   "cell_type": "markdown",
   "id": "ec40999a-8b6e-4da8-aece-a5a2043da12e",
   "metadata": {},
   "source": [
    "### Import Library"
   ]
  },
  {
   "cell_type": "code",
   "execution_count": 1,
   "id": "14070097-12e9-4554-919d-a0964957ea7e",
   "metadata": {},
   "outputs": [],
   "source": [
    "import tensorflow as tf\n",
    "import numpy as np"
   ]
  },
  {
   "cell_type": "markdown",
   "id": "a36fd574-6a99-4fb3-b5b4-06adbbcb40e7",
   "metadata": {},
   "source": [
    "## Buatlah sebuah tensor dengan shape(5,5) dengan nilai random yang disimpan dalam variable random_tensor\n",
    "### Menggunakan fungsi tf.random.uniform"
   ]
  },
  {
   "cell_type": "code",
   "execution_count": 43,
   "id": "cfb48209-9113-4c8c-a48e-25f0236686e0",
   "metadata": {},
   "outputs": [
    {
     "data": {
      "text/plain": [
       "<tf.Tensor: shape=(5, 5), dtype=float32, numpy=\n",
       "array([[22.864414 , 26.441841 , 17.820984 ,  1.0081611, 17.438227 ],\n",
       "       [ 4.4855604, 30.989601 , 24.170462 , 17.917677 , 29.32209  ],\n",
       "       [32.867405 , 13.2619   , 31.408207 , 13.052191 , 23.918528 ],\n",
       "       [32.118473 , 24.472466 , 15.036712 ,  8.89113  , 34.130573 ],\n",
       "       [10.751082 , 11.451107 ,  4.723091 , 31.991714 , 16.657688 ]],\n",
       "      dtype=float32)>"
      ]
     },
     "execution_count": 43,
     "metadata": {},
     "output_type": "execute_result"
    }
   ],
   "source": [
    "random_tensor = tf.random.uniform(shape = (5,5), minval=1, maxval=36, dtype=tf.float32)\n",
    "random_tensor"
   ]
  },
  {
   "cell_type": "markdown",
   "id": "5315302b-4576-4830-b84e-5b98c64d8655",
   "metadata": {},
   "source": [
    "## Buatlah sebuah tensor dengan shape(5,5) dari sebuah list dengan nilai bilangan prima dalam variable prime_tensor\n",
    "### Pertama kita menentukan lebih dulu isi/bilangan prima, kemudian kita convert menggunakan fungsi tf.convert_to_tensor"
   ]
  },
  {
   "cell_type": "code",
   "execution_count": 44,
   "id": "edf3e619-59bc-413c-9eec-50047d058168",
   "metadata": {},
   "outputs": [
    {
     "name": "stdout",
     "output_type": "stream",
     "text": [
      "tf.Tensor(\n",
      "[[  2.   3.   5.   7.  11.]\n",
      " [ 17.  19.  23.  29.  31.]\n",
      " [ 37.  41.  43.  47.  53.]\n",
      " [ 59.  61.  67.  71.  73.]\n",
      " [ 79.  83.  89.  97. 101.]], shape=(5, 5), dtype=float32)\n"
     ]
    }
   ],
   "source": [
    "prime_tensor = [[2, 3, 5, 7, 11], [17, 19, 23, 29, 31], [37, 41, 43, 47, 53], [59, 61, 67, 71, 73], [79, 83, 89, 97, 101]]\n",
    "prime_tensor = tf.convert_to_tensor((prime_tensor), dtype=tf.float32)\n",
    "print(prime_tensor)\n"
   ]
  },
  {
   "cell_type": "markdown",
   "id": "218313fb-0b0b-4cd3-abc4-ed5b3685f8f3",
   "metadata": {},
   "source": [
    "## Tampilkan dimensi dari kedua variable tersebut\n",
    "### menggunakan syntax shape"
   ]
  },
  {
   "cell_type": "code",
   "execution_count": 45,
   "id": "2fc3301d-6927-4e5c-a14f-d1ac2e20c4c4",
   "metadata": {},
   "outputs": [
    {
     "name": "stdout",
     "output_type": "stream",
     "text": [
      "Display Dimensi Variabel random_tensor = (5, 5)\n",
      "Display Dimensi Variabel prime_tensor = (5, 5)\n"
     ]
    }
   ],
   "source": [
    "print(f'Display Dimensi Variabel random_tensor = {random_tensor.shape}')\n",
    "print(f'Display Dimensi Variabel prime_tensor = {prime_tensor.shape}')"
   ]
  },
  {
   "cell_type": "code",
   "execution_count": null,
   "id": "6d7f32bb-7e0a-4a11-be1f-1fadc98f04ca",
   "metadata": {},
   "outputs": [],
   "source": [
    "\n"
   ]
  },
  {
   "cell_type": "markdown",
   "id": "868061e1-f74a-4da0-982e-1b7d819f45a8",
   "metadata": {},
   "source": [
    "## Tampilkan hasil dari perhitungan aritmetika 2 variable tersebut (Gunakan minimal 5 operator)"
   ]
  },
  {
   "cell_type": "markdown",
   "id": "3dccf404-183c-4087-888d-083f2a41f1e3",
   "metadata": {},
   "source": [
    "### ADD (Tambah)"
   ]
  },
  {
   "cell_type": "code",
   "execution_count": 46,
   "id": "2975a369-8972-41cb-a402-f01c47ab1602",
   "metadata": {},
   "outputs": [
    {
     "name": "stdout",
     "output_type": "stream",
     "text": [
      " Random Tensor = \n",
      " [[22.864414  26.441841  17.820984   1.0081611 17.438227 ]\n",
      " [ 4.4855604 30.989601  24.170462  17.917677  29.32209  ]\n",
      " [32.867405  13.2619    31.408207  13.052191  23.918528 ]\n",
      " [32.118473  24.472466  15.036712   8.89113   34.130573 ]\n",
      " [10.751082  11.451107   4.723091  31.991714  16.657688 ]]\n",
      "\n",
      "\n",
      " Prime Tensor = \n",
      " [[  2.   3.   5.   7.  11.]\n",
      " [ 17.  19.  23.  29.  31.]\n",
      " [ 37.  41.  43.  47.  53.]\n",
      " [ 59.  61.  67.  71.  73.]\n",
      " [ 79.  83.  89.  97. 101.]]\n",
      "\n",
      "\n",
      " Hasil Random Tensor + Prime Tensor = \n",
      " [[ 24.864414  29.441841  22.820984   8.008162  28.438227]\n",
      " [ 21.485561  49.9896    47.170464  46.91768   60.32209 ]\n",
      " [ 69.8674    54.2619    74.4082    60.052193  76.918526]\n",
      " [ 91.11847   85.472466  82.03671   79.89113  107.13057 ]\n",
      " [ 89.75108   94.45111   93.72309  128.99171  117.657684]]\n"
     ]
    }
   ],
   "source": [
    "jumlah = tf.add(random_tensor, prime_tensor)\n",
    "print(f' Random Tensor = \\n {random_tensor}')\n",
    "print('\\n')\n",
    "print(f' Prime Tensor = \\n {prime_tensor}')\n",
    "print('\\n')\n",
    "print(f' Hasil Random Tensor + Prime Tensor = \\n {jumlah}')"
   ]
  },
  {
   "cell_type": "markdown",
   "id": "0cd2cf97-43c7-4736-907c-912a8d230482",
   "metadata": {},
   "source": [
    "### MULTIPLY (Kali)"
   ]
  },
  {
   "cell_type": "code",
   "execution_count": 47,
   "id": "df0bfefb-cf3f-47e1-bad7-0eee3857419c",
   "metadata": {},
   "outputs": [
    {
     "name": "stdout",
     "output_type": "stream",
     "text": [
      " Random Tensor = \n",
      " [[22.864414  26.441841  17.820984   1.0081611 17.438227 ]\n",
      " [ 4.4855604 30.989601  24.170462  17.917677  29.32209  ]\n",
      " [32.867405  13.2619    31.408207  13.052191  23.918528 ]\n",
      " [32.118473  24.472466  15.036712   8.89113   34.130573 ]\n",
      " [10.751082  11.451107   4.723091  31.991714  16.657688 ]]\n",
      "\n",
      "\n",
      " Prime Tensor = \n",
      " [[  2.   3.   5.   7.  11.]\n",
      " [ 17.  19.  23.  29.  31.]\n",
      " [ 37.  41.  43.  47.  53.]\n",
      " [ 59.  61.  67.  71.  73.]\n",
      " [ 79.  83.  89.  97. 101.]]\n",
      "\n",
      "\n",
      " Hasil Random Tensor x Prime Tensor = \n",
      " [[  45.72883     79.32552     89.10492      7.0571275  191.8205   ]\n",
      " [  76.254524   588.8024     555.9206     519.6126     908.9848   ]\n",
      " [1216.094      543.7379    1350.5529     613.45294   1267.682    ]\n",
      " [1894.9899    1492.8204    1007.45966    631.27026   2491.5317   ]\n",
      " [ 849.3355     950.4419     420.3551    3103.1963    1682.4265   ]]\n"
     ]
    }
   ],
   "source": [
    "perkalian = tf.multiply(random_tensor, prime_tensor)\n",
    "\n",
    "print(f' Random Tensor = \\n {random_tensor}')\n",
    "print('\\n')\n",
    "print(f' Prime Tensor = \\n {prime_tensor}')\n",
    "print('\\n')\n",
    "print(f' Hasil Random Tensor x Prime Tensor = \\n {perkalian}')"
   ]
  },
  {
   "cell_type": "markdown",
   "id": "12e5c839-4bc6-4742-ac86-cfb3a3e3a780",
   "metadata": {},
   "source": [
    "### Divide (Bagi)"
   ]
  },
  {
   "cell_type": "code",
   "execution_count": 48,
   "id": "73d79abd-bcdd-42ab-9295-1932a8a8052b",
   "metadata": {},
   "outputs": [
    {
     "name": "stdout",
     "output_type": "stream",
     "text": [
      " Random Tensor = \n",
      " [[22.864414  26.441841  17.820984   1.0081611 17.438227 ]\n",
      " [ 4.4855604 30.989601  24.170462  17.917677  29.32209  ]\n",
      " [32.867405  13.2619    31.408207  13.052191  23.918528 ]\n",
      " [32.118473  24.472466  15.036712   8.89113   34.130573 ]\n",
      " [10.751082  11.451107   4.723091  31.991714  16.657688 ]]\n",
      "\n",
      "\n",
      " Prime Tensor = \n",
      " [[  2.   3.   5.   7.  11.]\n",
      " [ 17.  19.  23.  29.  31.]\n",
      " [ 37.  41.  43.  47.  53.]\n",
      " [ 59.  61.  67.  71.  73.]\n",
      " [ 79.  83.  89.  97. 101.]]\n",
      "\n",
      "\n",
      " Hasil Random Tensor \\ Prime Tensor = \n",
      " [[11.432207    8.813947    3.5641968   0.14402302  1.5852933 ]\n",
      " [ 0.2638565   1.6310316   1.0508896   0.6178509   0.94587386]\n",
      " [ 0.8883082   0.32346097  0.7304234   0.27770618  0.45129296]\n",
      " [ 0.5443809   0.40118796  0.22442853  0.12522718  0.4675421 ]\n",
      " [ 0.13608965  0.13796514  0.05306844  0.32981148  0.1649276 ]]\n"
     ]
    }
   ],
   "source": [
    "pembagian = tf.divide(random_tensor, prime_tensor)\n",
    "print(f' Random Tensor = \\n {random_tensor}')\n",
    "print('\\n')\n",
    "print(f' Prime Tensor = \\n {prime_tensor}')\n",
    "print('\\n')\n",
    "print(f' Hasil Random Tensor \\ Prime Tensor = \\n {pembagian}')"
   ]
  },
  {
   "cell_type": "markdown",
   "id": "6d654627-4652-40d8-a054-1fe81dc39a2c",
   "metadata": {},
   "source": [
    "### Subtract (Kurang)"
   ]
  },
  {
   "cell_type": "code",
   "execution_count": 49,
   "id": "f50292e9-2c54-4741-87b8-38cdb9be4e61",
   "metadata": {},
   "outputs": [
    {
     "name": "stdout",
     "output_type": "stream",
     "text": [
      " Random Tensor = \n",
      " [[22.864414  26.441841  17.820984   1.0081611 17.438227 ]\n",
      " [ 4.4855604 30.989601  24.170462  17.917677  29.32209  ]\n",
      " [32.867405  13.2619    31.408207  13.052191  23.918528 ]\n",
      " [32.118473  24.472466  15.036712   8.89113   34.130573 ]\n",
      " [10.751082  11.451107   4.723091  31.991714  16.657688 ]]\n",
      "\n",
      "\n",
      " Prime Tensor = \n",
      " [[  2.   3.   5.   7.  11.]\n",
      " [ 17.  19.  23.  29.  31.]\n",
      " [ 37.  41.  43.  47.  53.]\n",
      " [ 59.  61.  67.  71.  73.]\n",
      " [ 79.  83.  89.  97. 101.]]\n",
      "\n",
      "\n",
      " Hasil Random Tensor x Prime Tensor = \n",
      " [[ 20.864414   23.441841   12.820984   -5.991839    6.4382267]\n",
      " [-12.51444    11.989601    1.1704617 -11.082323   -1.6779099]\n",
      " [ -4.132595  -27.7381    -11.591793  -33.947807  -29.081472 ]\n",
      " [-26.881527  -36.527534  -51.963287  -62.10887   -38.869427 ]\n",
      " [-68.24892   -71.54889   -84.27691   -65.008286  -84.342316 ]]\n"
     ]
    }
   ],
   "source": [
    "pengurangan= tf.subtract(random_tensor, prime_tensor)\n",
    "\n",
    "print(f' Random Tensor = \\n {random_tensor}')\n",
    "print('\\n')\n",
    "print(f' Prime Tensor = \\n {prime_tensor}')\n",
    "print('\\n')\n",
    "print(f' Hasil Random Tensor x Prime Tensor = \\n {pengurangan}')"
   ]
  },
  {
   "cell_type": "markdown",
   "id": "50015a1f-5939-456b-abf1-a8d34f4fa8e1",
   "metadata": {},
   "source": [
    "## Tampilkan nilai maksimal dan minimal dari variable random_tensor\n",
    "#### Menggunakan argmax() dan argmin()"
   ]
  },
  {
   "cell_type": "code",
   "execution_count": 50,
   "id": "6949a974-adab-4385-a0b7-9d87280d899e",
   "metadata": {},
   "outputs": [
    {
     "name": "stdout",
     "output_type": "stream",
     "text": [
      "input tensor: \n",
      " [[22.864414  26.441841  17.820984   1.0081611 17.438227 ]\n",
      " [ 4.4855604 30.989601  24.170462  17.917677  29.32209  ]\n",
      " [32.867405  13.2619    31.408207  13.052191  23.918528 ]\n",
      " [32.118473  24.472466  15.036712   8.89113   34.130573 ]\n",
      " [10.751082  11.451107   4.723091  31.991714  16.657688 ]]\n",
      "maximum value by column: [2 1 2 4 3]\n",
      "maximum value by row: [1 1 0 4 3]\n",
      "\n",
      "=========================================================\n",
      "\n",
      "input tensor: \n",
      " [[22.864414  26.441841  17.820984   1.0081611 17.438227 ]\n",
      " [ 4.4855604 30.989601  24.170462  17.917677  29.32209  ]\n",
      " [32.867405  13.2619    31.408207  13.052191  23.918528 ]\n",
      " [32.118473  24.472466  15.036712   8.89113   34.130573 ]\n",
      " [10.751082  11.451107   4.723091  31.991714  16.657688 ]]\n",
      "minimum value by column: [2 1 2 4 3]\n",
      "minimum value by row: [1 1 0 4 3]\n"
     ]
    }
   ],
   "source": [
    "arg_max_sample = random_tensor\n",
    "print(\"input tensor: \\n\",arg_max_sample.numpy())\n",
    "max_random_tensor = tf.argmax(random_tensor, axis=0)\n",
    "max_random_tensor2 = tf.argmax(random_tensor, axis=1)\n",
    "print(\"maximum value by column:\",max_random_tensor.numpy())\n",
    "print(\"maximum value by row:\",max_random_tensor2.numpy())\n",
    "\n",
    "print('\\n=========================================================\\n')\n",
    "\n",
    "arg_min_sample = random_tensor\n",
    "print(\"input tensor: \\n\",arg_min_sample.numpy())\n",
    "min_random_tensor = tf.argmax(random_tensor, axis=0)\n",
    "min_random_tensor2 = tf.argmax(random_tensor, axis=1)\n",
    "print(\"minimum value by column:\",min_random_tensor.numpy())\n",
    "print(\"minimum value by row:\",min_random_tensor2.numpy())"
   ]
  },
  {
   "cell_type": "markdown",
   "id": "9ef05cea-6691-4a2f-9e09-65cbb044db69",
   "metadata": {},
   "source": [
    "## Tampilkan hasil dari penggabungan variable random_tensor dengan prime_tensor (concatenation)\n",
    "### MEnggunakan syntax concat()"
   ]
  },
  {
   "cell_type": "code",
   "execution_count": 51,
   "id": "a049b31c-7a4f-4a11-b4fa-2351f3b2c45a",
   "metadata": {},
   "outputs": [
    {
     "name": "stdout",
     "output_type": "stream",
     "text": [
      " Random Tensor = \n",
      " [[22.864414  26.441841  17.820984   1.0081611 17.438227 ]\n",
      " [ 4.4855604 30.989601  24.170462  17.917677  29.32209  ]\n",
      " [32.867405  13.2619    31.408207  13.052191  23.918528 ]\n",
      " [32.118473  24.472466  15.036712   8.89113   34.130573 ]\n",
      " [10.751082  11.451107   4.723091  31.991714  16.657688 ]]\n",
      "\n",
      "\n",
      " Prime Tensor = \n",
      " [[  2.   3.   5.   7.  11.]\n",
      " [ 17.  19.  23.  29.  31.]\n",
      " [ 37.  41.  43.  47.  53.]\n",
      " [ 59.  61.  67.  71.  73.]\n",
      " [ 79.  83.  89.  97. 101.]]\n",
      "\n",
      "\n",
      " Hasil Gabungan Random Tensor dan Prime Tensor = \n",
      " [[ 22.864414   26.441841   17.820984    1.0081611  17.438227    2.\n",
      "    3.          5.          7.         11.       ]\n",
      " [  4.4855604  30.989601   24.170462   17.917677   29.32209    17.\n",
      "   19.         23.         29.         31.       ]\n",
      " [ 32.867405   13.2619     31.408207   13.052191   23.918528   37.\n",
      "   41.         43.         47.         53.       ]\n",
      " [ 32.118473   24.472466   15.036712    8.89113    34.130573   59.\n",
      "   61.         67.         71.         73.       ]\n",
      " [ 10.751082   11.451107    4.723091   31.991714   16.657688   79.\n",
      "   83.         89.         97.        101.       ]]\n"
     ]
    }
   ],
   "source": [
    "concat = tf.concat([random_tensor, prime_tensor], axis=1)\n",
    "concat.numpy()\n",
    "\n",
    "print(f' Random Tensor = \\n {random_tensor}')\n",
    "print('\\n')\n",
    "print(f' Prime Tensor = \\n {prime_tensor}')\n",
    "print('\\n')\n",
    "print(f' Hasil Gabungan Random Tensor dan Prime Tensor = \\n {concat}')"
   ]
  },
  {
   "cell_type": "markdown",
   "id": "e013dbb9-701d-4fed-ae6e-8fee51b81fec",
   "metadata": {},
   "source": [
    "## Tampilkan hasil sorting dari kedua variable di atas. (descending)"
   ]
  },
  {
   "cell_type": "code",
   "execution_count": 55,
   "id": "d8b20696-7fbd-444c-82d8-a59029d2a302",
   "metadata": {},
   "outputs": [
    {
     "name": "stdout",
     "output_type": "stream",
     "text": [
      "========================================\n",
      "Hasil Sorting RANDOM TENSOR per Baris\n",
      "========================================\n",
      "tf.Tensor(\n",
      "[[26.441841  22.864414  17.820984  17.438227   1.0081611]\n",
      " [30.989601  29.32209   24.170462  17.917677   4.4855604]\n",
      " [32.867405  31.408207  23.918528  13.2619    13.052191 ]\n",
      " [34.130573  32.118473  24.472466  15.036712   8.89113  ]\n",
      " [31.991714  16.657688  11.451107  10.751082   4.723091 ]], shape=(5, 5), dtype=float32)\n"
     ]
    }
   ],
   "source": [
    "sort_prime = tf.sort(random_tensor, direction=\"DESCENDING\")\n",
    "\n",
    "print('========================================')\n",
    "print('Hasil Sorting RANDOM TENSOR per Baris')\n",
    "print('========================================')\n",
    "print(sort_prime)"
   ]
  },
  {
   "cell_type": "code",
   "execution_count": 56,
   "id": "f509ec98-526a-44f9-881a-4bba3e629560",
   "metadata": {},
   "outputs": [
    {
     "name": "stdout",
     "output_type": "stream",
     "text": [
      "========================================\n",
      "Hasil Sorting PrimeTensor TENSOR per Baris\n",
      "========================================\n",
      "tf.Tensor(\n",
      "[[ 11.   7.   5.   3.   2.]\n",
      " [ 31.  29.  23.  19.  17.]\n",
      " [ 53.  47.  43.  41.  37.]\n",
      " [ 73.  71.  67.  61.  59.]\n",
      " [101.  97.  89.  83.  79.]], shape=(5, 5), dtype=float32)\n"
     ]
    }
   ],
   "source": [
    "sort_prime = tf.sort(prime_tensor, direction=\"DESCENDING\")\n",
    "\n",
    "print('========================================')\n",
    "print('Hasil Sorting PrimeTensor TENSOR per Baris')\n",
    "print('========================================')\n",
    "print(sort_prime)"
   ]
  },
  {
   "cell_type": "code",
   "execution_count": null,
   "id": "2a60c357-6ded-4a53-854b-4de35302e0b0",
   "metadata": {},
   "outputs": [],
   "source": []
  },
  {
   "cell_type": "code",
   "execution_count": null,
   "id": "8e5f3a8e-00ea-48e8-be2f-0c5e52f8a273",
   "metadata": {},
   "outputs": [],
   "source": []
  },
  {
   "cell_type": "code",
   "execution_count": null,
   "id": "410401a3-a9ad-4da6-bed8-db0ee22dcd02",
   "metadata": {},
   "outputs": [],
   "source": []
  },
  {
   "cell_type": "code",
   "execution_count": null,
   "id": "d8958d35-32bd-4fc5-8dfc-2fa4b4947ed4",
   "metadata": {},
   "outputs": [],
   "source": []
  },
  {
   "cell_type": "code",
   "execution_count": null,
   "id": "373e24c7-6ac0-4c65-8cb0-1c90f0936af9",
   "metadata": {},
   "outputs": [],
   "source": []
  },
  {
   "cell_type": "code",
   "execution_count": null,
   "id": "bf71b4b1-3fed-419d-8cb5-89c6c50d0230",
   "metadata": {},
   "outputs": [],
   "source": []
  },
  {
   "cell_type": "code",
   "execution_count": null,
   "id": "d14fc179-8a6d-49a4-8923-bc754c0c331f",
   "metadata": {},
   "outputs": [],
   "source": []
  },
  {
   "cell_type": "code",
   "execution_count": null,
   "id": "7173024f-9a8b-468d-a0c5-9d02c207ee21",
   "metadata": {},
   "outputs": [],
   "source": []
  },
  {
   "cell_type": "code",
   "execution_count": null,
   "id": "64617242-24a2-4b4c-9119-dc54abeba428",
   "metadata": {},
   "outputs": [],
   "source": []
  },
  {
   "cell_type": "code",
   "execution_count": null,
   "id": "032def70-40c6-4d2b-81b6-fce60d45c8d1",
   "metadata": {},
   "outputs": [],
   "source": []
  }
 ],
 "metadata": {
  "kernelspec": {
   "display_name": "Python 3 (ipykernel)",
   "language": "python",
   "name": "python3"
  },
  "language_info": {
   "codemirror_mode": {
    "name": "ipython",
    "version": 3
   },
   "file_extension": ".py",
   "mimetype": "text/x-python",
   "name": "python",
   "nbconvert_exporter": "python",
   "pygments_lexer": "ipython3",
   "version": "3.10.7"
  }
 },
 "nbformat": 4,
 "nbformat_minor": 5
}
